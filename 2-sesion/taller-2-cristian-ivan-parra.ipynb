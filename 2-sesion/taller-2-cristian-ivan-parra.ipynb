{
 "cells": [
  {
   "cell_type": "markdown",
   "metadata": {},
   "source": [
    "# ETL desde Kaggle para `countries-intermediate-dataset`"
   ]
  },
  {
   "cell_type": "code",
   "execution_count": 39,
   "metadata": {},
   "outputs": [],
   "source": [
    "# Importamos librerías\n",
    "import pandas as pd  # import pandas\n",
    "import matplotlib.pyplot as plt  # import matplotlib\n",
    "import seaborn as sns  # import seaborn\n",
    "import utils as ut  # import utils\n",
    "import kaggle  # import kaggle\n",
    "import zipfile"
   ]
  },
  {
   "cell_type": "code",
   "execution_count": 40,
   "metadata": {},
   "outputs": [
    {
     "name": "stdout",
     "output_type": "stream",
     "text": [
      "international-football-results-from-1872-to-2017.zip: Skipping, found more recently modified local copy (use --force to force download)\n"
     ]
    }
   ],
   "source": [
    "# !kaggle datasets download -d <nombre-de-usuario>/<nombre-del-dataset>\n",
    "!kaggle datasets download -d martj42/international-football-results-from-1872-to-2017"
   ]
  },
  {
   "cell_type": "code",
   "execution_count": 41,
   "metadata": {},
   "outputs": [],
   "source": [
    "with zipfile.ZipFile(\n",
    "    \"international-football-results-from-1872-to-2017.zip\", \"r\"\n",
    ") as zip_ref:\n",
    "    zip_ref.extractall(\".\")"
   ]
  },
  {
   "cell_type": "markdown",
   "metadata": {},
   "source": [
    "## Como se tienem tres datasets, para este taller en particular nos enfocaremos en el dataset `goalscorers`"
   ]
  },
  {
   "cell_type": "code",
   "execution_count": 42,
   "metadata": {},
   "outputs": [],
   "source": [
    "df = pd.read_csv(\"goalscorers.csv\")"
   ]
  },
  {
   "cell_type": "code",
   "execution_count": 43,
   "metadata": {},
   "outputs": [
    {
     "name": "stdout",
     "output_type": "stream",
     "text": [
      "(44110, 8)\n"
     ]
    },
    {
     "data": {
      "text/html": [
       "<div>\n",
       "<style scoped>\n",
       "    .dataframe tbody tr th:only-of-type {\n",
       "        vertical-align: middle;\n",
       "    }\n",
       "\n",
       "    .dataframe tbody tr th {\n",
       "        vertical-align: top;\n",
       "    }\n",
       "\n",
       "    .dataframe thead th {\n",
       "        text-align: right;\n",
       "    }\n",
       "</style>\n",
       "<table border=\"1\" class=\"dataframe\">\n",
       "  <thead>\n",
       "    <tr style=\"text-align: right;\">\n",
       "      <th></th>\n",
       "      <th>date</th>\n",
       "      <th>home_team</th>\n",
       "      <th>away_team</th>\n",
       "      <th>team</th>\n",
       "      <th>scorer</th>\n",
       "      <th>minute</th>\n",
       "      <th>own_goal</th>\n",
       "      <th>penalty</th>\n",
       "    </tr>\n",
       "  </thead>\n",
       "  <tbody>\n",
       "    <tr>\n",
       "      <th>44105</th>\n",
       "      <td>2024-02-10</td>\n",
       "      <td>Qatar</td>\n",
       "      <td>Jordan</td>\n",
       "      <td>Qatar</td>\n",
       "      <td>Akram Afif</td>\n",
       "      <td>73.0</td>\n",
       "      <td>False</td>\n",
       "      <td>True</td>\n",
       "    </tr>\n",
       "    <tr>\n",
       "      <th>44106</th>\n",
       "      <td>2024-02-10</td>\n",
       "      <td>Qatar</td>\n",
       "      <td>Jordan</td>\n",
       "      <td>Qatar</td>\n",
       "      <td>Akram Afif</td>\n",
       "      <td>90.0</td>\n",
       "      <td>False</td>\n",
       "      <td>True</td>\n",
       "    </tr>\n",
       "    <tr>\n",
       "      <th>44107</th>\n",
       "      <td>2024-02-11</td>\n",
       "      <td>Ivory Coast</td>\n",
       "      <td>Nigeria</td>\n",
       "      <td>Nigeria</td>\n",
       "      <td>William Troost-Ekong</td>\n",
       "      <td>38.0</td>\n",
       "      <td>False</td>\n",
       "      <td>False</td>\n",
       "    </tr>\n",
       "    <tr>\n",
       "      <th>44108</th>\n",
       "      <td>2024-02-11</td>\n",
       "      <td>Ivory Coast</td>\n",
       "      <td>Nigeria</td>\n",
       "      <td>Ivory Coast</td>\n",
       "      <td>Franck Kessié</td>\n",
       "      <td>62.0</td>\n",
       "      <td>False</td>\n",
       "      <td>False</td>\n",
       "    </tr>\n",
       "    <tr>\n",
       "      <th>44109</th>\n",
       "      <td>2024-02-11</td>\n",
       "      <td>Ivory Coast</td>\n",
       "      <td>Nigeria</td>\n",
       "      <td>Ivory Coast</td>\n",
       "      <td>Sébastien Haller</td>\n",
       "      <td>81.0</td>\n",
       "      <td>False</td>\n",
       "      <td>False</td>\n",
       "    </tr>\n",
       "  </tbody>\n",
       "</table>\n",
       "</div>"
      ],
      "text/plain": [
       "             date    home_team away_team         team                scorer  \\\n",
       "44105  2024-02-10        Qatar    Jordan        Qatar            Akram Afif   \n",
       "44106  2024-02-10        Qatar    Jordan        Qatar            Akram Afif   \n",
       "44107  2024-02-11  Ivory Coast   Nigeria      Nigeria  William Troost-Ekong   \n",
       "44108  2024-02-11  Ivory Coast   Nigeria  Ivory Coast         Franck Kessié   \n",
       "44109  2024-02-11  Ivory Coast   Nigeria  Ivory Coast      Sébastien Haller   \n",
       "\n",
       "       minute own_goal penalty  \n",
       "44105    73.0    False    True  \n",
       "44106    90.0    False    True  \n",
       "44107    38.0    False   False  \n",
       "44108    62.0    False   False  \n",
       "44109    81.0    False   False  "
      ]
     },
     "execution_count": 43,
     "metadata": {},
     "output_type": "execute_result"
    }
   ],
   "source": [
    "print(df.shape)\n",
    "df.tail()"
   ]
  },
  {
   "cell_type": "code",
   "execution_count": 44,
   "metadata": {},
   "outputs": [
    {
     "data": {
      "text/html": [
       "<div>\n",
       "<style scoped>\n",
       "    .dataframe tbody tr th:only-of-type {\n",
       "        vertical-align: middle;\n",
       "    }\n",
       "\n",
       "    .dataframe tbody tr th {\n",
       "        vertical-align: top;\n",
       "    }\n",
       "\n",
       "    .dataframe thead th {\n",
       "        text-align: right;\n",
       "    }\n",
       "</style>\n",
       "<table border=\"1\" class=\"dataframe\">\n",
       "  <thead>\n",
       "    <tr style=\"text-align: right;\">\n",
       "      <th></th>\n",
       "      <th>nombre_campo</th>\n",
       "      <th>tipo_datos</th>\n",
       "      <th>no_nulos_%</th>\n",
       "      <th>nulos_%</th>\n",
       "      <th>nulos</th>\n",
       "    </tr>\n",
       "  </thead>\n",
       "  <tbody>\n",
       "    <tr>\n",
       "      <th>5</th>\n",
       "      <td>minute</td>\n",
       "      <td>[&lt;class 'float'&gt;]</td>\n",
       "      <td>99.40</td>\n",
       "      <td>0.60</td>\n",
       "      <td>263</td>\n",
       "    </tr>\n",
       "    <tr>\n",
       "      <th>4</th>\n",
       "      <td>scorer</td>\n",
       "      <td>[&lt;class 'str'&gt;, &lt;class 'float'&gt;]</td>\n",
       "      <td>99.89</td>\n",
       "      <td>0.11</td>\n",
       "      <td>50</td>\n",
       "    </tr>\n",
       "    <tr>\n",
       "      <th>0</th>\n",
       "      <td>date</td>\n",
       "      <td>[&lt;class 'str'&gt;]</td>\n",
       "      <td>100.00</td>\n",
       "      <td>0.00</td>\n",
       "      <td>0</td>\n",
       "    </tr>\n",
       "    <tr>\n",
       "      <th>1</th>\n",
       "      <td>home_team</td>\n",
       "      <td>[&lt;class 'str'&gt;]</td>\n",
       "      <td>100.00</td>\n",
       "      <td>0.00</td>\n",
       "      <td>0</td>\n",
       "    </tr>\n",
       "    <tr>\n",
       "      <th>2</th>\n",
       "      <td>away_team</td>\n",
       "      <td>[&lt;class 'str'&gt;]</td>\n",
       "      <td>100.00</td>\n",
       "      <td>0.00</td>\n",
       "      <td>0</td>\n",
       "    </tr>\n",
       "    <tr>\n",
       "      <th>3</th>\n",
       "      <td>team</td>\n",
       "      <td>[&lt;class 'str'&gt;]</td>\n",
       "      <td>100.00</td>\n",
       "      <td>0.00</td>\n",
       "      <td>0</td>\n",
       "    </tr>\n",
       "    <tr>\n",
       "      <th>6</th>\n",
       "      <td>own_goal</td>\n",
       "      <td>[&lt;class 'bool'&gt;, &lt;class 'float'&gt;]</td>\n",
       "      <td>100.00</td>\n",
       "      <td>0.00</td>\n",
       "      <td>2</td>\n",
       "    </tr>\n",
       "    <tr>\n",
       "      <th>7</th>\n",
       "      <td>penalty</td>\n",
       "      <td>[&lt;class 'bool'&gt;, &lt;class 'float'&gt;]</td>\n",
       "      <td>100.00</td>\n",
       "      <td>0.00</td>\n",
       "      <td>2</td>\n",
       "    </tr>\n",
       "  </tbody>\n",
       "</table>\n",
       "</div>"
      ],
      "text/plain": [
       "  nombre_campo                         tipo_datos  no_nulos_%  nulos_%  nulos\n",
       "5       minute                  [<class 'float'>]       99.40     0.60    263\n",
       "4       scorer   [<class 'str'>, <class 'float'>]       99.89     0.11     50\n",
       "0         date                    [<class 'str'>]      100.00     0.00      0\n",
       "1    home_team                    [<class 'str'>]      100.00     0.00      0\n",
       "2    away_team                    [<class 'str'>]      100.00     0.00      0\n",
       "3         team                    [<class 'str'>]      100.00     0.00      0\n",
       "6     own_goal  [<class 'bool'>, <class 'float'>]      100.00     0.00      2\n",
       "7      penalty  [<class 'bool'>, <class 'float'>]      100.00     0.00      2"
      ]
     },
     "execution_count": 44,
     "metadata": {},
     "output_type": "execute_result"
    }
   ],
   "source": [
    "ut.verificar_tipo_datos_y_nulos(df)"
   ]
  },
  {
   "cell_type": "markdown",
   "metadata": {},
   "source": [
    "## Diccionario de datos\n",
    "\n",
    "|   Columna   |          Descripción             |\n",
    "|-------------|---------------------------------|\n",
    "|     date    |  Fecha del partido              |\n",
    "|  home_team  |  Nombre del equipo local        |\n",
    "|  away_team  |  Nombre del equipo visitante    |\n",
    "|    team     |  Nombre del equipo que anotó    |\n",
    "|   scorer    |  Nombre del jugador que anotó   |\n",
    "|  own_goal   |  Si el gol fue en propia meta   |\n",
    "|   penalty   |  Si el gol fue de penal         |\n"
   ]
  },
  {
   "cell_type": "markdown",
   "metadata": {},
   "source": [
    "## Contexto del dataset\n",
    "\n",
    "Este dataset contiene información de los goleadores del futbol internacional (de selecciones), donde muestra el equipo donde jugó, si fue penalty, autogol y el minuto en que anotó gol.\n",
    "\n",
    "## Objetivo\n",
    "\n",
    "Se necesita saber cuál es el mayor goleador de encuentros de selecciones  desde 1872 hasta 2024, esto para clasificación y realización de un top de goleadores en sus respectivas selecciones nacionales. También un análisis de los equipos con más goleadores en sus plantillas"
   ]
  },
  {
   "cell_type": "markdown",
   "metadata": {},
   "source": [
    "### Limpieza de nulos"
   ]
  },
  {
   "cell_type": "markdown",
   "metadata": {},
   "source": [
    "Se eliminan los valores nulos pero donde no se encuentra el nombre del goleador, se dejan los valores nulos de minute, que es el minuto donde anotaron, ya que aunque se desconozca, se sabe que el jugador anotó y nos sirve para el objetivo final."
   ]
  },
  {
   "cell_type": "code",
   "execution_count": 45,
   "metadata": {},
   "outputs": [],
   "source": [
    "df.dropna(\n",
    "    subset=[\"scorer\"], inplace=True\n",
    ")  # Eliminamos los nulos con base en la columna 'scorer'"
   ]
  },
  {
   "cell_type": "code",
   "execution_count": 46,
   "metadata": {},
   "outputs": [
    {
     "data": {
      "text/html": [
       "<div>\n",
       "<style scoped>\n",
       "    .dataframe tbody tr th:only-of-type {\n",
       "        vertical-align: middle;\n",
       "    }\n",
       "\n",
       "    .dataframe tbody tr th {\n",
       "        vertical-align: top;\n",
       "    }\n",
       "\n",
       "    .dataframe thead th {\n",
       "        text-align: right;\n",
       "    }\n",
       "</style>\n",
       "<table border=\"1\" class=\"dataframe\">\n",
       "  <thead>\n",
       "    <tr style=\"text-align: right;\">\n",
       "      <th></th>\n",
       "      <th>nombre_campo</th>\n",
       "      <th>tipo_datos</th>\n",
       "      <th>no_nulos_%</th>\n",
       "      <th>nulos_%</th>\n",
       "      <th>nulos</th>\n",
       "    </tr>\n",
       "  </thead>\n",
       "  <tbody>\n",
       "    <tr>\n",
       "      <th>5</th>\n",
       "      <td>minute</td>\n",
       "      <td>[&lt;class 'float'&gt;]</td>\n",
       "      <td>99.52</td>\n",
       "      <td>0.48</td>\n",
       "      <td>213</td>\n",
       "    </tr>\n",
       "    <tr>\n",
       "      <th>0</th>\n",
       "      <td>date</td>\n",
       "      <td>[&lt;class 'str'&gt;]</td>\n",
       "      <td>100.00</td>\n",
       "      <td>0.00</td>\n",
       "      <td>0</td>\n",
       "    </tr>\n",
       "    <tr>\n",
       "      <th>1</th>\n",
       "      <td>home_team</td>\n",
       "      <td>[&lt;class 'str'&gt;]</td>\n",
       "      <td>100.00</td>\n",
       "      <td>0.00</td>\n",
       "      <td>0</td>\n",
       "    </tr>\n",
       "    <tr>\n",
       "      <th>2</th>\n",
       "      <td>away_team</td>\n",
       "      <td>[&lt;class 'str'&gt;]</td>\n",
       "      <td>100.00</td>\n",
       "      <td>0.00</td>\n",
       "      <td>0</td>\n",
       "    </tr>\n",
       "    <tr>\n",
       "      <th>3</th>\n",
       "      <td>team</td>\n",
       "      <td>[&lt;class 'str'&gt;]</td>\n",
       "      <td>100.00</td>\n",
       "      <td>0.00</td>\n",
       "      <td>0</td>\n",
       "    </tr>\n",
       "    <tr>\n",
       "      <th>4</th>\n",
       "      <td>scorer</td>\n",
       "      <td>[&lt;class 'str'&gt;]</td>\n",
       "      <td>100.00</td>\n",
       "      <td>0.00</td>\n",
       "      <td>0</td>\n",
       "    </tr>\n",
       "    <tr>\n",
       "      <th>6</th>\n",
       "      <td>own_goal</td>\n",
       "      <td>[&lt;class 'bool'&gt;, &lt;class 'float'&gt;]</td>\n",
       "      <td>100.00</td>\n",
       "      <td>0.00</td>\n",
       "      <td>1</td>\n",
       "    </tr>\n",
       "    <tr>\n",
       "      <th>7</th>\n",
       "      <td>penalty</td>\n",
       "      <td>[&lt;class 'bool'&gt;, &lt;class 'float'&gt;]</td>\n",
       "      <td>100.00</td>\n",
       "      <td>0.00</td>\n",
       "      <td>1</td>\n",
       "    </tr>\n",
       "  </tbody>\n",
       "</table>\n",
       "</div>"
      ],
      "text/plain": [
       "  nombre_campo                         tipo_datos  no_nulos_%  nulos_%  nulos\n",
       "5       minute                  [<class 'float'>]       99.52     0.48    213\n",
       "0         date                    [<class 'str'>]      100.00     0.00      0\n",
       "1    home_team                    [<class 'str'>]      100.00     0.00      0\n",
       "2    away_team                    [<class 'str'>]      100.00     0.00      0\n",
       "3         team                    [<class 'str'>]      100.00     0.00      0\n",
       "4       scorer                    [<class 'str'>]      100.00     0.00      0\n",
       "6     own_goal  [<class 'bool'>, <class 'float'>]      100.00     0.00      1\n",
       "7      penalty  [<class 'bool'>, <class 'float'>]      100.00     0.00      1"
      ]
     },
     "execution_count": 46,
     "metadata": {},
     "output_type": "execute_result"
    }
   ],
   "source": [
    "ut.verificar_tipo_datos_y_nulos(df)  # Verificamos que se hayan eliminado los nulos"
   ]
  },
  {
   "cell_type": "markdown",
   "metadata": {},
   "source": [
    "Dado que no es ni el 1 % de los datos los valores nulos de minute, decidimos imputar el valor promedio del dataset a estos registros vacíos"
   ]
  },
  {
   "cell_type": "code",
   "execution_count": 47,
   "metadata": {},
   "outputs": [],
   "source": [
    "df[\"minute\"].fillna(df[\"minute\"].mean(), inplace=True)"
   ]
  },
  {
   "cell_type": "code",
   "execution_count": 48,
   "metadata": {},
   "outputs": [
    {
     "data": {
      "text/html": [
       "<div>\n",
       "<style scoped>\n",
       "    .dataframe tbody tr th:only-of-type {\n",
       "        vertical-align: middle;\n",
       "    }\n",
       "\n",
       "    .dataframe tbody tr th {\n",
       "        vertical-align: top;\n",
       "    }\n",
       "\n",
       "    .dataframe thead th {\n",
       "        text-align: right;\n",
       "    }\n",
       "</style>\n",
       "<table border=\"1\" class=\"dataframe\">\n",
       "  <thead>\n",
       "    <tr style=\"text-align: right;\">\n",
       "      <th></th>\n",
       "      <th>nombre_campo</th>\n",
       "      <th>tipo_datos</th>\n",
       "      <th>no_nulos_%</th>\n",
       "      <th>nulos_%</th>\n",
       "      <th>nulos</th>\n",
       "    </tr>\n",
       "  </thead>\n",
       "  <tbody>\n",
       "    <tr>\n",
       "      <th>0</th>\n",
       "      <td>date</td>\n",
       "      <td>[&lt;class 'str'&gt;]</td>\n",
       "      <td>100.0</td>\n",
       "      <td>0.0</td>\n",
       "      <td>0</td>\n",
       "    </tr>\n",
       "    <tr>\n",
       "      <th>1</th>\n",
       "      <td>home_team</td>\n",
       "      <td>[&lt;class 'str'&gt;]</td>\n",
       "      <td>100.0</td>\n",
       "      <td>0.0</td>\n",
       "      <td>0</td>\n",
       "    </tr>\n",
       "    <tr>\n",
       "      <th>2</th>\n",
       "      <td>away_team</td>\n",
       "      <td>[&lt;class 'str'&gt;]</td>\n",
       "      <td>100.0</td>\n",
       "      <td>0.0</td>\n",
       "      <td>0</td>\n",
       "    </tr>\n",
       "    <tr>\n",
       "      <th>3</th>\n",
       "      <td>team</td>\n",
       "      <td>[&lt;class 'str'&gt;]</td>\n",
       "      <td>100.0</td>\n",
       "      <td>0.0</td>\n",
       "      <td>0</td>\n",
       "    </tr>\n",
       "    <tr>\n",
       "      <th>4</th>\n",
       "      <td>scorer</td>\n",
       "      <td>[&lt;class 'str'&gt;]</td>\n",
       "      <td>100.0</td>\n",
       "      <td>0.0</td>\n",
       "      <td>0</td>\n",
       "    </tr>\n",
       "    <tr>\n",
       "      <th>5</th>\n",
       "      <td>minute</td>\n",
       "      <td>[&lt;class 'float'&gt;]</td>\n",
       "      <td>100.0</td>\n",
       "      <td>0.0</td>\n",
       "      <td>0</td>\n",
       "    </tr>\n",
       "    <tr>\n",
       "      <th>6</th>\n",
       "      <td>own_goal</td>\n",
       "      <td>[&lt;class 'bool'&gt;, &lt;class 'float'&gt;]</td>\n",
       "      <td>100.0</td>\n",
       "      <td>0.0</td>\n",
       "      <td>1</td>\n",
       "    </tr>\n",
       "    <tr>\n",
       "      <th>7</th>\n",
       "      <td>penalty</td>\n",
       "      <td>[&lt;class 'bool'&gt;, &lt;class 'float'&gt;]</td>\n",
       "      <td>100.0</td>\n",
       "      <td>0.0</td>\n",
       "      <td>1</td>\n",
       "    </tr>\n",
       "  </tbody>\n",
       "</table>\n",
       "</div>"
      ],
      "text/plain": [
       "  nombre_campo                         tipo_datos  no_nulos_%  nulos_%  nulos\n",
       "0         date                    [<class 'str'>]       100.0      0.0      0\n",
       "1    home_team                    [<class 'str'>]       100.0      0.0      0\n",
       "2    away_team                    [<class 'str'>]       100.0      0.0      0\n",
       "3         team                    [<class 'str'>]       100.0      0.0      0\n",
       "4       scorer                    [<class 'str'>]       100.0      0.0      0\n",
       "5       minute                  [<class 'float'>]       100.0      0.0      0\n",
       "6     own_goal  [<class 'bool'>, <class 'float'>]       100.0      0.0      1\n",
       "7      penalty  [<class 'bool'>, <class 'float'>]       100.0      0.0      1"
      ]
     },
     "execution_count": 48,
     "metadata": {},
     "output_type": "execute_result"
    }
   ],
   "source": [
    "ut.verificar_tipo_datos_y_nulos(df)  # Verificamos que se hayan eliminado los nulos"
   ]
  },
  {
   "cell_type": "markdown",
   "metadata": {},
   "source": [
    "Se observa que hay dos tipos de datos para las columnas own_goal y penalty, se exploran los dos campos:"
   ]
  },
  {
   "cell_type": "code",
   "execution_count": 52,
   "metadata": {},
   "outputs": [
    {
     "name": "stdout",
     "output_type": "stream",
     "text": [
      "Valores únicos de la columna 'own_goal': [False True nan]\n",
      "Valores únicos de la columna 'penalty': [False True nan]\n"
     ]
    }
   ],
   "source": [
    "unique_own_goal = df[\"own_goal\"].unique()\n",
    "unique_penalty = df[\"penalty\"].unique()\n",
    "\n",
    "print(\"Valores únicos de la columna 'own_goal':\", unique_own_goal)\n",
    "print(\"Valores únicos de la columna 'penalty':\", unique_penalty)"
   ]
  },
  {
   "cell_type": "code",
   "execution_count": 54,
   "metadata": {},
   "outputs": [],
   "source": [
    "# Eliminamos los nan\n",
    "df.dropna(inplace=True)"
   ]
  },
  {
   "cell_type": "code",
   "execution_count": 57,
   "metadata": {},
   "outputs": [
    {
     "name": "stdout",
     "output_type": "stream",
     "text": [
      "(44059, 8)\n"
     ]
    },
    {
     "data": {
      "text/html": [
       "<div>\n",
       "<style scoped>\n",
       "    .dataframe tbody tr th:only-of-type {\n",
       "        vertical-align: middle;\n",
       "    }\n",
       "\n",
       "    .dataframe tbody tr th {\n",
       "        vertical-align: top;\n",
       "    }\n",
       "\n",
       "    .dataframe thead th {\n",
       "        text-align: right;\n",
       "    }\n",
       "</style>\n",
       "<table border=\"1\" class=\"dataframe\">\n",
       "  <thead>\n",
       "    <tr style=\"text-align: right;\">\n",
       "      <th></th>\n",
       "      <th>nombre_campo</th>\n",
       "      <th>tipo_datos</th>\n",
       "      <th>no_nulos_%</th>\n",
       "      <th>nulos_%</th>\n",
       "      <th>nulos</th>\n",
       "    </tr>\n",
       "  </thead>\n",
       "  <tbody>\n",
       "    <tr>\n",
       "      <th>0</th>\n",
       "      <td>date</td>\n",
       "      <td>[&lt;class 'str'&gt;]</td>\n",
       "      <td>100.0</td>\n",
       "      <td>0.0</td>\n",
       "      <td>0</td>\n",
       "    </tr>\n",
       "    <tr>\n",
       "      <th>1</th>\n",
       "      <td>home_team</td>\n",
       "      <td>[&lt;class 'str'&gt;]</td>\n",
       "      <td>100.0</td>\n",
       "      <td>0.0</td>\n",
       "      <td>0</td>\n",
       "    </tr>\n",
       "    <tr>\n",
       "      <th>2</th>\n",
       "      <td>away_team</td>\n",
       "      <td>[&lt;class 'str'&gt;]</td>\n",
       "      <td>100.0</td>\n",
       "      <td>0.0</td>\n",
       "      <td>0</td>\n",
       "    </tr>\n",
       "    <tr>\n",
       "      <th>3</th>\n",
       "      <td>team</td>\n",
       "      <td>[&lt;class 'str'&gt;]</td>\n",
       "      <td>100.0</td>\n",
       "      <td>0.0</td>\n",
       "      <td>0</td>\n",
       "    </tr>\n",
       "    <tr>\n",
       "      <th>4</th>\n",
       "      <td>scorer</td>\n",
       "      <td>[&lt;class 'str'&gt;]</td>\n",
       "      <td>100.0</td>\n",
       "      <td>0.0</td>\n",
       "      <td>0</td>\n",
       "    </tr>\n",
       "    <tr>\n",
       "      <th>5</th>\n",
       "      <td>minute</td>\n",
       "      <td>[&lt;class 'float'&gt;]</td>\n",
       "      <td>100.0</td>\n",
       "      <td>0.0</td>\n",
       "      <td>0</td>\n",
       "    </tr>\n",
       "    <tr>\n",
       "      <th>6</th>\n",
       "      <td>own_goal</td>\n",
       "      <td>[&lt;class 'bool'&gt;]</td>\n",
       "      <td>100.0</td>\n",
       "      <td>0.0</td>\n",
       "      <td>0</td>\n",
       "    </tr>\n",
       "    <tr>\n",
       "      <th>7</th>\n",
       "      <td>penalty</td>\n",
       "      <td>[&lt;class 'bool'&gt;]</td>\n",
       "      <td>100.0</td>\n",
       "      <td>0.0</td>\n",
       "      <td>0</td>\n",
       "    </tr>\n",
       "  </tbody>\n",
       "</table>\n",
       "</div>"
      ],
      "text/plain": [
       "  nombre_campo         tipo_datos  no_nulos_%  nulos_%  nulos\n",
       "0         date    [<class 'str'>]       100.0      0.0      0\n",
       "1    home_team    [<class 'str'>]       100.0      0.0      0\n",
       "2    away_team    [<class 'str'>]       100.0      0.0      0\n",
       "3         team    [<class 'str'>]       100.0      0.0      0\n",
       "4       scorer    [<class 'str'>]       100.0      0.0      0\n",
       "5       minute  [<class 'float'>]       100.0      0.0      0\n",
       "6     own_goal   [<class 'bool'>]       100.0      0.0      0\n",
       "7      penalty   [<class 'bool'>]       100.0      0.0      0"
      ]
     },
     "execution_count": 57,
     "metadata": {},
     "output_type": "execute_result"
    }
   ],
   "source": [
    "print(df.shape)\n",
    "ut.verificar_tipo_datos_y_nulos(df)  # Verificamos que se hayan eliminado los nulos"
   ]
  },
  {
   "cell_type": "code",
   "execution_count": 67,
   "metadata": {},
   "outputs": [
    {
     "name": "stdout",
     "output_type": "stream",
     "text": [
      "Número de filas duplicadas en el DataFrame: 82\n"
     ]
    }
   ],
   "source": [
    "# Contar filas duplicadas\n",
    "filas_duplicadas = df.duplicated().sum()\n",
    "\n",
    "# Mostrar el número de filas duplicadas\n",
    "print(f\"Número de filas duplicadas en el DataFrame: {filas_duplicadas}\")"
   ]
  },
  {
   "cell_type": "markdown",
   "metadata": {},
   "source": [
    "## Variables categóricas y numéricas "
   ]
  },
  {
   "cell_type": "code",
   "execution_count": 63,
   "metadata": {},
   "outputs": [
    {
     "name": "stdout",
     "output_type": "stream",
     "text": [
      "Columnas categóricas: ['date', 'home_team', 'away_team', 'team', 'scorer', 'own_goal', 'penalty']\n",
      "Columnas numéricas: ['minute']\n"
     ]
    }
   ],
   "source": [
    "# Obtener las columnas categóricas\n",
    "cols_cat = df.select_dtypes(include=[\"object\"]).columns.tolist()\n",
    "\n",
    "# Obtener las columnas numéricas\n",
    "cols_num = df.select_dtypes(include=[\"float64\", \"int64\"]).columns.tolist()\n",
    "\n",
    "print(\"Columnas categóricas:\", cols_cat)\n",
    "print(\"Columnas numéricas:\", cols_num)"
   ]
  },
  {
   "cell_type": "code",
   "execution_count": 65,
   "metadata": {},
   "outputs": [
    {
     "name": "stdout",
     "output_type": "stream",
     "text": [
      "Columna date: 4599 subniveles\n",
      "Columna home_team: 220 subniveles\n",
      "Columna away_team: 220 subniveles\n",
      "Columna team: 220 subniveles\n",
      "Columna scorer: 14249 subniveles\n",
      "Columna own_goal: 2 subniveles\n",
      "Columna penalty: 2 subniveles\n"
     ]
    }
   ],
   "source": [
    "# Conteo de subniveles en columnas categóricas\n",
    "for col in cols_cat:\n",
    "    print(f\"Columna {col}: {df[col].nunique()} subniveles\")"
   ]
  },
  {
   "cell_type": "markdown",
   "metadata": {},
   "source": []
  },
  {
   "cell_type": "code",
   "execution_count": 61,
   "metadata": {},
   "outputs": [
    {
     "name": "stdout",
     "output_type": "stream",
     "text": [
      "scorer\n",
      "Cristiano Ronaldo      111\n",
      "Robert Lewandowski      62\n",
      "Romelu Lukaku           61\n",
      "Harry Kane              55\n",
      "Lionel Messi            54\n",
      "Edin Džeko              50\n",
      "Ali Daei                49\n",
      "Miroslav Klose          48\n",
      "Aleksandar Mitrović     47\n",
      "Carlos Ruiz             47\n",
      "Name: count, dtype: int64\n"
     ]
    }
   ],
   "source": [
    "scorer_counts = df[\"scorer\"].value_counts()\n",
    "print(scorer_counts.head(10))"
   ]
  }
 ],
 "metadata": {
  "kernelspec": {
   "display_name": "Python 3",
   "language": "python",
   "name": "python3"
  },
  "language_info": {
   "codemirror_mode": {
    "name": "ipython",
    "version": 3
   },
   "file_extension": ".py",
   "mimetype": "text/x-python",
   "name": "python",
   "nbconvert_exporter": "python",
   "pygments_lexer": "ipython3",
   "version": "3.12.1"
  }
 },
 "nbformat": 4,
 "nbformat_minor": 2
}
